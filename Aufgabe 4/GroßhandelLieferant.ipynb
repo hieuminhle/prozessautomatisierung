{
 "cells": [
  {
   "cell_type": "code",
   "execution_count": 8,
   "id": "eb5f988b-36a9-4172-9fb9-b853b3b56582",
   "metadata": {},
   "outputs": [],
   "source": [
    "import asyncio\n",
    "from pyzeebe import ZeebeWorker, Job, create_camunda_cloud_channel, ZeebeClient"
   ]
  },
  {
   "cell_type": "code",
   "execution_count": 9,
   "id": "75d362e9-7adf-497c-a47f-5ddac953201a",
   "metadata": {},
   "outputs": [],
   "source": [
    "ClusterURL = \"fc43de37-01a5-41a0-a9d8-51d621169f35.dsm-1.zeebe.camunda.io:443\"\n",
    "ClientID = \"UPPG5KY-b6ZRN1Yf_iuXG87hucOa286k\"\n",
    "ClientSecret = \"J~pZPr6LZ6NxBa2Qwr7DVd8YwZahW35v8RIAMsi~h~VThu0.76GzL73sLB37CR2r\"\n",
    "ClusterID = \"fc43de37-01a5-41a0-a9d8-51d621169f35\"\n",
    "Region = \"dsm-1\""
   ]
  },
  {
   "cell_type": "code",
   "execution_count": 10,
   "id": "1a9d4292-eb90-472f-aae1-240ffaca50dd",
   "metadata": {},
   "outputs": [],
   "source": [
    "channel = create_camunda_cloud_channel(client_id=ClientID, \n",
    "                                       client_secret=ClientSecret, \n",
    "                                       cluster_id=ClusterID, \n",
    "                                       region=Region)"
   ]
  },
  {
   "cell_type": "code",
   "execution_count": 11,
   "id": "d621fe6f-d43b-4c0d-8637-0518da8af067",
   "metadata": {},
   "outputs": [],
   "source": [
    "# Create a zeebe client and worker\n",
    "client = ZeebeClient(channel)\n",
    "worker = ZeebeWorker(channel)"
   ]
  },
  {
   "cell_type": "code",
   "execution_count": 12,
   "id": "7bb65bea-9043-4b2a-98c9-d809f4b6755a",
   "metadata": {},
   "outputs": [],
   "source": [
    "process_key = await client.run_process(bpmn_process_id='Kunde01', variables={})"
   ]
  },
  {
   "cell_type": "code",
   "execution_count": 13,
   "id": "0ac53a59-692d-4c3a-b86b-b172edb4fca8",
   "metadata": {},
   "outputs": [],
   "source": [
    "@worker.task(task_type=\"BestellungVersendenType\")\n",
    "async def BestellungVersenden(Mail: str, Land: str, Anzahl: float):\n",
    "\n",
    "    corr_key_a=\"Message_22fjeih\"\n",
    "    await client.publish_message(name=corr_key_a, correlation_key=corr_key_a, variables={\"Mail\": Mail,\n",
    "        \"Land\": Land, \"Anzahl\": Anzahl})\n",
    "    \n",
    "    return {}\n",
    "\n",
    "@worker.task(task_type=\"BestellungWeitergebenType\")\n",
    "async def BestellungWeitergeben(Mail: str, Land: str, Anzahl: float):\n",
    "\n",
    "    corr_key_b=\"Message_1qhiank\"\n",
    "    await client.publish_message(name=corr_key_b, correlation_key=corr_key_b, variables={\"Mail\": Mail,\n",
    "        \"Land\": Land, \"Anzahl\": Anzahl})\n",
    "    \n",
    "    return {}\n",
    "\n",
    "@worker.task(task_type=\"FehlgeschlagenType\")\n",
    "async def Fehlgeschlagen(Mail: str, Land: str, Anzahl: float):\n",
    "\n",
    "    corr_key_c=\"Message_2opgcoj\"\n",
    "    await client.publish_message(name=corr_key_c, correlation_key=corr_key_c, variables={\"Message\": \"Erstellung fehlgeschlagen!\"})\n",
    "    \n",
    "    return {}\n",
    "\n",
    "@worker.task(task_type=\"AngebotAbgebenType\")\n",
    "async def AngebotAbgeben(Kosten: float):\n",
    "\n",
    "    corr_key_d=\"Message_0hj1318\"\n",
    "    await client.publish_message(name=corr_key_d, correlation_key=corr_key_d, variables={\"Kosten\": Kosten})\n",
    "    \n",
    "    return {}\n",
    "\n",
    "await worker.work()"
   ]
  },
  {
   "cell_type": "code",
   "execution_count": null,
   "id": "aec6f29a-484e-43fe-bd31-6d23a140a902",
   "metadata": {},
   "outputs": [],
   "source": []
  }
 ],
 "metadata": {
  "kernelspec": {
   "display_name": "Python 3.11.0 64-bit",
   "language": "python",
   "name": "python3"
  },
  "language_info": {
   "codemirror_mode": {
    "name": "ipython",
    "version": 3
   },
   "file_extension": ".py",
   "mimetype": "text/x-python",
   "name": "python",
   "nbconvert_exporter": "python",
   "pygments_lexer": "ipython3",
   "version": "3.11.0"
  },
  "vscode": {
   "interpreter": {
    "hash": "1fd988c1c8184c293faffdc1ddb58656203adeccbccf7527b03c3771aad403af"
   }
  }
 },
 "nbformat": 4,
 "nbformat_minor": 5
}
