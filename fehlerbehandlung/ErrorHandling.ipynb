{
 "cells": [
  {
   "cell_type": "code",
   "execution_count": 1,
   "id": "eb5f988b-36a9-4172-9fb9-b853b3b56582",
   "metadata": {},
   "outputs": [],
   "source": [
    "import asyncio\n",
    "from pyzeebe import ZeebeWorker, Job, create_camunda_cloud_channel, ZeebeClient"
   ]
  },
  {
   "cell_type": "code",
   "execution_count": 2,
   "id": "75d362e9-7adf-497c-a47f-5ddac953201a",
   "metadata": {},
   "outputs": [],
   "source": [
    "ClusterURL = \"fc43de37-01a5-41a0-a9d8-51d621169f35.dsm-1.zeebe.camunda.io:443\"\n",
    "ClientID = \"UPPG5KY-b6ZRN1Yf_iuXG87hucOa286k\"\n",
    "ClientSecret = \"J~pZPr6LZ6NxBa2Qwr7DVd8YwZahW35v8RIAMsi~h~VThu0.76GzL73sLB37CR2r\"\n",
    "ClusterID = \"fc43de37-01a5-41a0-a9d8-51d621169f35\"\n",
    "Region = \"dsm-1\""
   ]
  },
  {
   "cell_type": "code",
   "execution_count": 3,
   "id": "1a9d4292-eb90-472f-aae1-240ffaca50dd",
   "metadata": {},
   "outputs": [],
   "source": [
    "channel = create_camunda_cloud_channel(client_id=ClientID, \n",
    "                                       client_secret=ClientSecret, \n",
    "                                       cluster_id=ClusterID, \n",
    "                                       region=Region)"
   ]
  },
  {
   "cell_type": "code",
   "execution_count": 4,
   "id": "d621fe6f-d43b-4c0d-8637-0518da8af067",
   "metadata": {},
   "outputs": [],
   "source": [
    "# Create a zeebe client and worker\n",
    "client = ZeebeClient(channel)\n",
    "worker = ZeebeWorker(channel)"
   ]
  },
  {
   "cell_type": "code",
   "execution_count": 5,
   "id": "0ac53a59-692d-4c3a-b86b-b172edb4fca8",
   "metadata": {},
   "outputs": [
    {
     "name": "stderr",
     "output_type": "stream",
     "text": [
      "Task type: AufgabeErledigenType - failed job {'jobKey': 4503599627880683, 'taskType': 'AufgabeErledigenType', 'processInstanceKey': 4503599627880675, 'bpmnProcessId': 'Process_0a366b45-38c2-4681-8fcb-8ac4a12b721a', 'processDefinitionVersion': 1, 'processDefinitionKey': 2251799814193341, 'elementId': 'Activity_1hudhn0', 'elementInstanceKey': 4503599627880682, 'customHeaders': {}, 'worker': 'ACER-A517-53G', 'retries': 3, 'deadline': 1669384465930, 'variables': {}}. Error: can only concatenate str (not \"int\") to str.\n",
      "Task type: AufgabeErledigenType - failed job {'jobKey': 4503599627880683, 'taskType': 'AufgabeErledigenType', 'processInstanceKey': 4503599627880675, 'bpmnProcessId': 'Process_0a366b45-38c2-4681-8fcb-8ac4a12b721a', 'processDefinitionVersion': 1, 'processDefinitionKey': 2251799814193341, 'elementId': 'Activity_1hudhn0', 'elementInstanceKey': 4503599627880682, 'customHeaders': {}, 'worker': 'ACER-A517-53G', 'retries': 2, 'deadline': 1669384466082, 'variables': {}}. Error: can only concatenate str (not \"int\") to str.\n",
      "Task type: AufgabeErledigenType - failed job {'jobKey': 4503599627880683, 'taskType': 'AufgabeErledigenType', 'processInstanceKey': 4503599627880675, 'bpmnProcessId': 'Process_0a366b45-38c2-4681-8fcb-8ac4a12b721a', 'processDefinitionVersion': 1, 'processDefinitionKey': 2251799814193341, 'elementId': 'Activity_1hudhn0', 'elementInstanceKey': 4503599627880682, 'customHeaders': {}, 'worker': 'ACER-A517-53G', 'retries': 1, 'deadline': 1669384466261, 'variables': {}}. Error: can only concatenate str (not \"int\") to str.\n"
     ]
    }
   ],
   "source": [
    "async def on_error(exception: Exception, job: Job):\n",
    "\n",
    "    print(exception)\n",
    "    await job.set_error_status(\"FEHLER\",\"FEHLER\")\n",
    "\n",
    "@worker.task(task_type=\"AufgabeErledigenType\", exception_handler=on_error)\n",
    "async def Bestellung_versenden():\n",
    "\n",
    "    return {\"Ergebnis\": (\"1\"+1)}\n",
    "\n",
    "await worker.work()"
   ]
  },
  {
   "cell_type": "code",
   "execution_count": null,
   "id": "aec6f29a-484e-43fe-bd31-6d23a140a902",
   "metadata": {},
   "outputs": [],
   "source": []
  }
 ],
 "metadata": {
  "kernelspec": {
   "display_name": "Python 3.11.0 64-bit",
   "language": "python",
   "name": "python3"
  },
  "language_info": {
   "codemirror_mode": {
    "name": "ipython",
    "version": 3
   },
   "file_extension": ".py",
   "mimetype": "text/x-python",
   "name": "python",
   "nbconvert_exporter": "python",
   "pygments_lexer": "ipython3",
   "version": "3.11.0"
  },
  "vscode": {
   "interpreter": {
    "hash": "1fd988c1c8184c293faffdc1ddb58656203adeccbccf7527b03c3771aad403af"
   }
  }
 },
 "nbformat": 4,
 "nbformat_minor": 5
}
